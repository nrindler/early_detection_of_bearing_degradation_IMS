{
 "cells": [
  {
   "cell_type": "markdown",
   "id": "4c17fce1",
   "metadata": {},
   "source": [
    "# Unsupervised learning\n",
    "# Implement ITUC's AutoEncoder + k-Means clustering approach\n",
    "\n",
    "Start with Test 1 Bearings 3x and 4x, which ended in failure."
   ]
  },
  {
   "cell_type": "code",
   "execution_count": null,
   "id": "c182d3c4",
   "metadata": {},
   "outputs": [],
   "source": [
    "# Needed older version of numpy for tensorflow to work\n",
    "#!pip install numpy==1.23.4 --user"
   ]
  },
  {
   "cell_type": "code",
   "execution_count": 1,
   "id": "2e0a6e0e",
   "metadata": {},
   "outputs": [],
   "source": [
    "# Import packages\n",
    "import pandas as pd\n",
    "import numpy as np\n",
    "from sklearn.cluster import KMeans\n",
    "from scipy.fft import rfft, rfftfreq\n",
    "from scipy import signal\n",
    "import sklearn\n",
    "import os\n",
    "import matplotlib.pyplot as plt\n",
    "import inspect"
   ]
  },
  {
   "cell_type": "code",
   "execution_count": 2,
   "id": "7857de7a",
   "metadata": {},
   "outputs": [
    {
     "name": "stdout",
     "output_type": "stream",
     "text": [
      "1.23.4\n"
     ]
    }
   ],
   "source": [
    "print(np.__version__)"
   ]
  },
  {
   "cell_type": "code",
   "execution_count": 3,
   "id": "42ae991f",
   "metadata": {},
   "outputs": [],
   "source": [
    "# Load tensorflow's keras package\n",
    "import tensorflow as tf\n",
    "from tensorflow import keras"
   ]
  },
  {
   "cell_type": "markdown",
   "id": "ef0776d1",
   "metadata": {},
   "source": [
    "### AutoEncoder\n",
    "\n",
    "Implement Juodelyte, et. al.'s exact [AutoEncoder](https://github.com/DovileDo/BearingDegradationStageDetection/blob/main/src/models/AutoEncoder.py) architecture as a starting point, to replicate their methodology on the new IMS bearing dataset."
   ]
  },
  {
   "cell_type": "code",
   "execution_count": 4,
   "id": "e4e2053f",
   "metadata": {},
   "outputs": [],
   "source": [
    "# Import the ITUC AutoEncoder creation script\n",
    "    # Source: https://github.com/DovileDo/BearingDegradationStageDetection/blob/main/src/models/AutoEncoder.py\n",
    "import AutoEncoder\n",
    "from AutoEncoder import anomaly_score # obtain anomaly score for each observation\n",
    "from AutoEncoder import calc_anomaly_treshold # set threshold score to identify anomalous values indicative of final failure stage\n",
    "from AutoEncoder import correct_labels # reorder cluster labels in chronological order\n",
    "from AutoEncoder import get_AElabels # train the AutoEncoder and k-means clustering algorithm and output the result "
   ]
  },
  {
   "cell_type": "markdown",
   "id": "85f45694",
   "metadata": {},
   "source": [
    "The AutoEncoder input layer is updated from length 641 to 1025 to reflect the different signal frequency. IMS data was recorded at 20,480 and then down-sampled by a factor of 10 to 2,048 Hz.  When transformed to the frequency domain via Fast Fourier Transform (FFT), the data takes the shape of a matrix of size n * p, where:\n",
    " - **n** is the number of observations in each Test, and\n",
    " - **p** = ((f * s)/2) + 1 = ((20480 * 0.1)/2) + 1 = 1025.\n",
    "     - **f** is the frequency (20,480 Hz)\n",
    "     - **s** is the sampling rate (0.1, meaning down-sampling by a factor of 10).  "
   ]
  },
  {
   "cell_type": "code",
   "execution_count": 5,
   "id": "1086db5a",
   "metadata": {},
   "outputs": [],
   "source": [
    "# Update AutoEncoder architecture\n",
    "\n",
    "input_freq = keras.Input(shape=(1025,))\n",
    "# \"encoded\" is the encoded representation of the input\n",
    "encoded = keras.layers.Dense(256, activation=\"relu\")(input_freq)\n",
    "encoded = keras.layers.Dense(128, activation=\"relu\")(encoded)\n",
    "encoded = keras.layers.Dense(64, activation=\"relu\")(encoded)\n",
    "encoded = keras.layers.Dense(32, activation=\"relu\")(encoded)\n",
    "encoded = keras.layers.Dense(8, activation=\"relu\")(encoded)\n",
    "\n",
    "# \"decoded\" is the lossy reconstruction of the input\n",
    "decoded = keras.layers.Dense(8, activation=\"relu\")(encoded)\n",
    "decoded = keras.layers.Dense(32, activation=\"relu\")(decoded)\n",
    "decoded = keras.layers.Dense(64, activation=\"relu\")(decoded)\n",
    "decoded = keras.layers.Dense(128, activation=\"relu\")(decoded)\n",
    "decoded = keras.layers.Dense(1025, activation=\"linear\")(decoded)\n",
    "\n",
    "# This model maps an input to its reconstruction\n",
    "autoencoder = keras.Model(input_freq, decoded)\n",
    "# This model maps an input to its encoded representation\n",
    "encoder = keras.Model(input_freq, encoded)\n",
    "weights = autoencoder.get_weights()\n",
    "autoencoder.compile(optimizer=\"adam\", loss=\"mae\")"
   ]
  },
  {
   "cell_type": "markdown",
   "id": "9704b54c",
   "metadata": {},
   "source": [
    "### Update ITUC AutoEncoder functions\n",
    "The FEMTO dataset used by the ITUC team included both vertical (y-axis) and horizontal (x-axis) vibration signal. The IMS dataset I used includes only horizontal signal for Tests 2 and 3, so I excluded the vertical signal in Test 1 from my analysis.  The ITUC AutoEncoder implementation must be updated to exclude the vertical vibration encoding.\n",
    "\n",
    "Also update the function to enable custom setting the value of \"k\", or the parameter that determines the number of cluster trained by the k-means clustering algorithm."
   ]
  },
  {
   "cell_type": "code",
   "execution_count": 6,
   "id": "8b7bb301",
   "metadata": {},
   "outputs": [
    {
     "name": "stdout",
     "output_type": "stream",
     "text": [
      "def get_AElabels(Xt, Xf):\n",
      "    autoencoder.set_weights(weights)\n",
      "    autoencoder.fit(\n",
      "        Xt[:, :641], Xt[:, :641], epochs=100, batch_size=64, shuffle=True, verbose=False\n",
      "    )\n",
      "\n",
      "    # Horizontal vibration encoding\n",
      "    Hencoded_f = encoder.predict(Xt[:, :641])\n",
      "\n",
      "    Hdecoded_f = autoencoder.predict(Xf[:, :641])\n",
      "    score = anomaly_score(Xf[:, :641], Hdecoded_f)\n",
      "    anomaly_threshold = calc_anomaly_treshold(\n",
      "        anomaly_score(Xt[:, :641], autoencoder.predict(Xt[:, :641]))\n",
      "    )\n",
      "\n",
      "    autoencoder.set_weights(weights)\n",
      "    autoencoder.fit(\n",
      "        Xt[:, 641:], Xt[:, 641:], epochs=100, batch_size=64, shuffle=True, verbose=False\n",
      "    )\n",
      "\n",
      "    # Vertical vibration encoding\n",
      "    Vencoded_f = encoder.predict(Xt[:, 641:])\n",
      "\n",
      "    Encoding = np.concatenate((Hencoded_f, Vencoded_f), axis=1)\n",
      "    kmeans = KMeans(n_clusters=3, random_state=0).fit(Encoding)\n",
      "    kMeanslabels = kmeans.labels_\n",
      "\n",
      "    Alabels = np.where(score > anomaly_threshold, 1, 0)\n",
      "\n",
      "    return correct_labels(kMeanslabels, Alabels)\n",
      "\n"
     ]
    }
   ],
   "source": [
    "# Print function\n",
    "lines = inspect.getsource(get_AElabels)\n",
    "print(lines)"
   ]
  },
  {
   "cell_type": "code",
   "execution_count": 7,
   "id": "5176f97a",
   "metadata": {},
   "outputs": [],
   "source": [
    "# Update get_AElabels function to include ONLY horizontal vibration signal\n",
    "def get_AElabels(Xt, Xf, k=3):\n",
    "    autoencoder.set_weights(weights)\n",
    "    autoencoder.fit(\n",
    "        Xt, Xf, epochs=100, batch_size=64, shuffle=True, verbose=False\n",
    "    )\n",
    "\n",
    "    # Horizontal vibration encoding\n",
    "    Hencoded_f = encoder.predict(Xt)\n",
    "\n",
    "    Hdecoded_f = autoencoder.predict(Xf)\n",
    "    score = anomaly_score(Xf, Hdecoded_f)\n",
    "    anomaly_threshold = calc_anomaly_treshold(\n",
    "        anomaly_score(Xt, autoencoder.predict(Xt))\n",
    "    )\n",
    "\n",
    "    #Encoding = np.concatenate((Hencoded_f, Vencoded_f), axis=1)\n",
    "    kmeans = KMeans(n_clusters=k, random_state=0).fit(Hencoded_f) #Encoding\n",
    "    kMeanslabels = kmeans.labels_\n",
    "\n",
    "    Alabels = np.where(score > anomaly_threshold, 1, 0)\n",
    "\n",
    "    return correct_labels(kMeanslabels, Alabels)"
   ]
  },
  {
   "cell_type": "code",
   "execution_count": 8,
   "id": "f76a1cf5",
   "metadata": {},
   "outputs": [
    {
     "name": "stdout",
     "output_type": "stream",
     "text": [
      "def correct_labels(Hl, Al):\n",
      "    labelsb = Al\n",
      "    labelsb = np.where(labelsb == 1, 3, 2)\n",
      "    avg = []\n",
      "    for i in range(3):\n",
      "        avg.append(np.sum(np.where(Hl == i)) / len(np.where(Hl == i)[0]))\n",
      "    new = np.copy(Hl)\n",
      "    for i in range(3):\n",
      "        idx = np.argmin(avg)\n",
      "        new[np.where(Hl == idx)] = i\n",
      "        avg[idx] = float(\"inf\")\n",
      "    labelsb[: Hl.shape[0]] = new\n",
      "    return labelsb\n",
      "\n"
     ]
    }
   ],
   "source": [
    "# Print function\n",
    "lines = inspect.getsource(correct_labels)\n",
    "print(lines)"
   ]
  },
  {
   "cell_type": "code",
   "execution_count": 9,
   "id": "cb7a92f6",
   "metadata": {},
   "outputs": [],
   "source": [
    "def correct_labels(Hl, Al):\n",
    "    labelsb = Al\n",
    "    labelsb = np.where(labelsb == 1, 3, 2)\n",
    "    avg = []\n",
    "    for i in range(3):\n",
    "        if len(np.where(Hl == i)[0]) > 0:\n",
    "            avg.append(np.sum(np.where(Hl == i)) / len(np.where(Hl == i)[0]))\n",
    "        else:\n",
    "            avg.append(0)\n",
    "    new = np.copy(Hl)\n",
    "    for i in range(3):\n",
    "        idx = np.argmin(avg)\n",
    "        new[np.where(Hl == idx)] = i\n",
    "        avg[idx] = float(\"inf\")\n",
    "    labelsb[: Hl.shape[0]] = new\n",
    "    return labelsb"
   ]
  },
  {
   "cell_type": "markdown",
   "id": "bbe04d8f",
   "metadata": {},
   "source": [
    "# Test 1 Bearing 3x\n",
    "\n",
    "### Manual labels\n",
    "- Exclude Obs. 0-159 (data error)\n",
    "- Stage 1 (healthy) - until EMA of kurtosis spikes, excluding the initial data issue. (Obs 160-1825) (Index 1665)\n",
    "- Stage 2 (faulty) - from when EMA of kurtosis spikes until absolute mean spikes (Obs 1826-2153). (Index 1993)\n",
    "- Stage 3 (failed) - absolute mean spikes at the very end of the series (Obs 2154-2155)."
   ]
  },
  {
   "cell_type": "code",
   "execution_count": 10,
   "id": "f6bb0559",
   "metadata": {},
   "outputs": [
    {
     "data": {
      "text/plain": [
       "(1996, 1025)"
      ]
     },
     "execution_count": 10,
     "metadata": {},
     "output_type": "execute_result"
    }
   ],
   "source": [
    "fft_b3x_ds10 = pd.read_csv(\"Data/IMS/FFT/fft_b3x_ds10.csv\", header=None)\n",
    "fft_b3x_ds10 = fft_b3x_ds10.iloc[160:,] # Truncate first 160 observations based on EDA\n",
    "fft_b3x_ds10.shape"
   ]
  },
  {
   "cell_type": "code",
   "execution_count": 11,
   "id": "e1372710",
   "metadata": {},
   "outputs": [
    {
     "name": "stderr",
     "output_type": "stream",
     "text": [
      "C:\\Users\\nadav.rindler\\AppData\\Roaming\\Python\\Python38\\site-packages\\sklearn\\cluster\\_kmeans.py:870: FutureWarning: The default value of `n_init` will change from 10 to 'auto' in 1.4. Set the value of `n_init` explicitly to suppress the warning\n",
      "  warnings.warn(\n"
     ]
    }
   ],
   "source": [
    "t1_b3x_clstr = get_AElabels(fft_b3x_ds10, fft_b3x_ds10)"
   ]
  },
  {
   "cell_type": "code",
   "execution_count": 12,
   "id": "06c51303",
   "metadata": {},
   "outputs": [
    {
     "data": {
      "text/plain": [
       "(array([0, 1, 2]), array([1963,   29,    4], dtype=int64))"
      ]
     },
     "execution_count": 12,
     "metadata": {},
     "output_type": "execute_result"
    }
   ],
   "source": [
    "# Counts of each cluster label\n",
    "np.unique(t1_b3x_clstr, return_counts=True)"
   ]
  },
  {
   "cell_type": "code",
   "execution_count": 13,
   "id": "33b275c9",
   "metadata": {},
   "outputs": [
    {
     "data": {
      "image/png": "[encoded data removed]",
      "text/plain": [
       "<Figure size 432x288 with 1 Axes>"
      ]
     },
     "metadata": {
      "needs_background": "light"
     },
     "output_type": "display_data"
    }
   ],
   "source": [
    "# Plot k-means cluster label assignments over time\n",
    "plt.figure(figsize=(6,4))\n",
    "plt.scatter(y=t1_b3x_clstr, x=range(len(t1_b3x_clstr))) \n",
    "plt.axvline(x=1665, color=\"black\", dashes=(1,2))\n",
    "plt.axvline(x=1993, color=\"black\", dashes=(1,2))\n",
    "plt.yticks(range(3))\n",
    "plt.ylabel(\"Cluster Label\")\n",
    "plt.xlabel(\"Cycle (1-second snapshots)\")\n",
    "plt.title(\"Test 1 Bearing 3x: k-Means clusters\\nEmbedded AE frequency data\")\n",
    "plt.tight_layout()\n",
    "plt.show()"
   ]
  },
  {
   "cell_type": "markdown",
   "id": "81efe29f",
   "metadata": {},
   "source": [
    "### Alternative 1: Truncate last 20% of data with final failure stage\n",
    "Following ITUC methodology."
   ]
  },
  {
   "cell_type": "code",
   "execution_count": 14,
   "id": "949b8b4c",
   "metadata": {},
   "outputs": [
    {
     "data": {
      "text/plain": [
       "(1796, 1025)"
      ]
     },
     "execution_count": 14,
     "metadata": {},
     "output_type": "execute_result"
    }
   ],
   "source": [
    "fft_b3x_trunc = fft_b3x_ds10.iloc[:-200,] # Truncate last 20% of observations which include the failure stage\n",
    "fft_b3x_trunc.reset_index(drop=True, inplace=True)\n",
    "fft_b3x_trunc.shape"
   ]
  },
  {
   "cell_type": "code",
   "execution_count": 15,
   "id": "9b67c597",
   "metadata": {},
   "outputs": [
    {
     "name": "stderr",
     "output_type": "stream",
     "text": [
      "C:\\Users\\nadav.rindler\\AppData\\Roaming\\Python\\Python38\\site-packages\\sklearn\\cluster\\_kmeans.py:870: FutureWarning: The default value of `n_init` will change from 10 to 'auto' in 1.4. Set the value of `n_init` explicitly to suppress the warning\n",
      "  warnings.warn(\n"
     ]
    }
   ],
   "source": [
    "t1_b3x_trunc_clstr = get_AElabels(fft_b3x_trunc, fft_b3x_trunc, k=2)"
   ]
  },
  {
   "cell_type": "code",
   "execution_count": 16,
   "id": "4e61f2c9",
   "metadata": {},
   "outputs": [
    {
     "data": {
      "text/plain": [
       "(array([1, 2]), array([1013,  783], dtype=int64))"
      ]
     },
     "execution_count": 16,
     "metadata": {},
     "output_type": "execute_result"
    }
   ],
   "source": [
    "# Counts of each cluster label\n",
    "np.unique(t1_b3x_trunc_clstr, return_counts=True)"
   ]
  },
  {
   "cell_type": "code",
   "execution_count": 17,
   "id": "bdc896fb",
   "metadata": {},
   "outputs": [
    {
     "data": {
      "image/png": "[encoded data removed]",
      "text/plain": [
       "<Figure size 432x288 with 1 Axes>"
      ]
     },
     "metadata": {
      "needs_background": "light"
     },
     "output_type": "display_data"
    }
   ],
   "source": [
    "# Plot k-means cluster label assignments over time\n",
    "plt.figure(figsize=(6,4))\n",
    "plt.scatter(y=t1_b3x_trunc_clstr, x=range(len(t1_b3x_trunc_clstr))) \n",
    "plt.axvline(x=1665, color=\"black\", dashes=(1,2))\n",
    "plt.yticks(range(3))\n",
    "plt.ylabel(\"Cluster Label\")\n",
    "plt.xlabel(\"Cycle (1-second snapshots)\")\n",
    "plt.title(\"Test 1 Bearing 3x: k-Means clusters\\nTruncated embedded AE frequency data (ex. failure stage)\")\n",
    "plt.tight_layout()\n",
    "plt.show()"
   ]
  },
  {
   "cell_type": "markdown",
   "id": "9feb3596",
   "metadata": {},
   "source": [
    "### Alternative 2: Apply k-Means clustering on raw frequency data\n",
    "Do not use the AutoEncoder embedding."
   ]
  },
  {
   "cell_type": "code",
   "execution_count": 18,
   "id": "50cbdd1f",
   "metadata": {},
   "outputs": [
    {
     "name": "stderr",
     "output_type": "stream",
     "text": [
      "C:\\Users\\nadav.rindler\\AppData\\Roaming\\Python\\Python38\\site-packages\\sklearn\\cluster\\_kmeans.py:870: FutureWarning: The default value of `n_init` will change from 10 to 'auto' in 1.4. Set the value of `n_init` explicitly to suppress the warning\n",
      "  warnings.warn(\n"
     ]
    }
   ],
   "source": [
    "km_b3x = KMeans(n_clusters=3, random_state=0).fit(fft_b3x_ds10)\n",
    "km_b3x_labs = km_b3x.labels_"
   ]
  },
  {
   "cell_type": "code",
   "execution_count": 19,
   "id": "cf5d25a6",
   "metadata": {},
   "outputs": [
    {
     "data": {
      "text/plain": [
       "(array([0, 1, 2]), array([1183,  812,    1], dtype=int64))"
      ]
     },
     "execution_count": 19,
     "metadata": {},
     "output_type": "execute_result"
    }
   ],
   "source": [
    "# Counts of each cluster label\n",
    "np.unique(km_b3x_labs, return_counts=True)"
   ]
  },
  {
   "cell_type": "code",
   "execution_count": 20,
   "id": "dfd08cd2",
   "metadata": {},
   "outputs": [
    {
     "data": {
      "image/png": "[encoded data removed]",
      "text/plain": [
       "<Figure size 432x288 with 1 Axes>"
      ]
     },
     "metadata": {
      "needs_background": "light"
     },
     "output_type": "display_data"
    }
   ],
   "source": [
    "# Plot k-means cluster label assignments over time\n",
    "plt.figure(figsize=(6,4))\n",
    "plt.scatter(y=km_b3x_labs, x=range(len(km_b3x_labs))) \n",
    "plt.axvline(x=1665, color=\"black\", dashes=(1,2))\n",
    "plt.axvline(x=1993, color=\"black\", dashes=(1,2))\n",
    "plt.yticks(range(3))\n",
    "plt.ylabel(\"Cluster Label\")\n",
    "plt.xlabel(\"Cycle (1-second snapshots)\")\n",
    "plt.title(\"Test 1 Bearing 3x: k-Means clusters\\nRaw Frequency Data\")\n",
    "plt.tight_layout()\n",
    "plt.show()"
   ]
  },
  {
   "cell_type": "markdown",
   "id": "20d40693",
   "metadata": {},
   "source": [
    "### Alternative 3: Other clustering algorithms\n",
    " - Hierarchical clustering\n",
    " - DBScan\n",
    " \n",
    "Try on both embedded (AutoEncoder) data and on raw frequency data\n",
    "\n",
    "**Hierarchical clustering**"
   ]
  },
  {
   "cell_type": "code",
   "execution_count": 21,
   "id": "42cf1220",
   "metadata": {},
   "outputs": [],
   "source": [
    "autoencoder.set_weights(weights)\n",
    "autoencoder.fit(fft_b3x_ds10, fft_b3x_ds10, epochs=100, batch_size=64, shuffle=True, verbose=False)\n",
    "Hencoded_f = encoder.predict(fft_b3x_ds10)"
   ]
  },
  {
   "cell_type": "code",
   "execution_count": 22,
   "id": "ec6f6727",
   "metadata": {},
   "outputs": [],
   "source": [
    "from scipy.cluster.hierarchy import linkage, dendrogram"
   ]
  },
  {
   "cell_type": "code",
   "execution_count": 23,
   "id": "3fbd8246",
   "metadata": {},
   "outputs": [],
   "source": [
    "# Use embedded AE data\n",
    "complete_clustering = linkage(Hencoded_f, method=\"complete\", metric=\"euclidean\") #, optimal_ordering=True"
   ]
  },
  {
   "cell_type": "code",
   "execution_count": 24,
   "id": "11091b47",
   "metadata": {},
   "outputs": [
    {
     "data": {
      "image/png": "[encoded data removed]",
      "text/plain": [
       "<Figure size 432x288 with 1 Axes>"
      ]
     },
     "metadata": {
      "needs_background": "light"
     },
     "output_type": "display_data"
    }
   ],
   "source": [
    "dendrogram(complete_clustering)\n",
    "plt.show()"
   ]
  },
  {
   "cell_type": "code",
   "execution_count": 25,
   "id": "cd61450f",
   "metadata": {},
   "outputs": [],
   "source": [
    "# Use raw frequency data\n",
    "complete_clustering = linkage(fft_b3x_ds10, method=\"complete\", metric=\"euclidean\") #, optimal_ordering=True"
   ]
  },
  {
   "cell_type": "code",
   "execution_count": 26,
   "id": "43f137e6",
   "metadata": {},
   "outputs": [
    {
     "data": {
      "image/png": "[encoded data removed]",
      "text/plain": [
       "<Figure size 432x288 with 1 Axes>"
      ]
     },
     "metadata": {
      "needs_background": "light"
     },
     "output_type": "display_data"
    }
   ],
   "source": [
    "dendrogram(complete_clustering)\n",
    "plt.show()"
   ]
  },
  {
   "cell_type": "markdown",
   "id": "d68d1caa",
   "metadata": {},
   "source": [
    "Hierarchical clustering fails to show any meaningful structure (clusters) in the data.\n",
    "\n",
    "### DBScan"
   ]
  },
  {
   "cell_type": "code",
   "execution_count": 27,
   "id": "85424fbd",
   "metadata": {},
   "outputs": [],
   "source": [
    "from sklearn import metrics\n",
    "from sklearn.cluster import DBSCAN"
   ]
  },
  {
   "cell_type": "code",
   "execution_count": 28,
   "id": "31856c06",
   "metadata": {},
   "outputs": [],
   "source": [
    "# Use embedded AE data\n",
    "db = DBSCAN(eps=0.5, min_samples=10).fit(Hencoded_f)\n",
    "db_labs = db.labels_"
   ]
  },
  {
   "cell_type": "code",
   "execution_count": 29,
   "id": "5fa1eab5",
   "metadata": {},
   "outputs": [
    {
     "name": "stdout",
     "output_type": "stream",
     "text": [
      "Estimated number of clusters: 6\n",
      "Estimated number of noise points: 541\n"
     ]
    }
   ],
   "source": [
    "# Number of clusters in labels, ignoring noise if present.\n",
    "n_clusters_ = len(set(db_labs)) - (1 if -1 in db_labs else 0)\n",
    "n_noise_ = list(db_labs).count(-1)\n",
    "\n",
    "print(\"Estimated number of clusters: %d\" % n_clusters_)\n",
    "print(\"Estimated number of noise points: %d\" % n_noise_)"
   ]
  },
  {
   "cell_type": "code",
   "execution_count": 30,
   "id": "13c592c8",
   "metadata": {},
   "outputs": [
    {
     "data": {
      "text/plain": [
       "(array([-1,  0,  1,  2,  3,  4,  5], dtype=int64),\n",
       " array([ 541,   87, 1193,    4,   77,   84,   10], dtype=int64))"
      ]
     },
     "execution_count": 30,
     "metadata": {},
     "output_type": "execute_result"
    }
   ],
   "source": [
    "np.unique(db_labs, return_counts=True)"
   ]
  },
  {
   "cell_type": "code",
   "execution_count": 31,
   "id": "40a19499",
   "metadata": {},
   "outputs": [],
   "source": [
    "# Use raw frequency data\n",
    "db = DBSCAN(eps=0.5, min_samples=10).fit(fft_b3x_ds10)\n",
    "db_labs = db.labels_"
   ]
  },
  {
   "cell_type": "code",
   "execution_count": 32,
   "id": "857b0902",
   "metadata": {},
   "outputs": [
    {
     "name": "stdout",
     "output_type": "stream",
     "text": [
      "Estimated number of clusters: 0\n",
      "Estimated number of noise points: 1996\n"
     ]
    }
   ],
   "source": [
    "# Number of clusters in labels, ignoring noise if present.\n",
    "n_clusters_ = len(set(db_labs)) - (1 if -1 in db_labs else 0)\n",
    "n_noise_ = list(db_labs).count(-1)\n",
    "\n",
    "print(\"Estimated number of clusters: %d\" % n_clusters_)\n",
    "print(\"Estimated number of noise points: %d\" % n_noise_)"
   ]
  },
  {
   "cell_type": "code",
   "execution_count": 33,
   "id": "e2158b69",
   "metadata": {},
   "outputs": [
    {
     "data": {
      "text/plain": [
       "(array([-1], dtype=int64), array([1996], dtype=int64))"
      ]
     },
     "execution_count": 33,
     "metadata": {},
     "output_type": "execute_result"
    }
   ],
   "source": [
    "np.unique(db_labs, return_counts=True)"
   ]
  },
  {
   "cell_type": "markdown",
   "id": "d7fd7443",
   "metadata": {},
   "source": [
    "DBScan can find some segments within the data, but it is very sensitive to the input parameters (eps and min_samples). Grid search across the parameter space may help here. But I'm not seeing clear clusters jump out.\n",
    "\n",
    "### Alternative 4: Include a time series trend component\n",
    "\n",
    "Include row count as a column to introduce the ordered nature of the time series data."
   ]
  },
  {
   "cell_type": "code",
   "execution_count": 34,
   "id": "61a8b3de",
   "metadata": {},
   "outputs": [
    {
     "data": {
      "text/plain": [
       "Int64Index([   0,    1,    2,    3,    4,    5,    6,    7,    8,    9,\n",
       "            ...\n",
       "            1015, 1016, 1017, 1018, 1019, 1020, 1021, 1022, 1023, 1024],\n",
       "           dtype='int64', length=1025)"
      ]
     },
     "execution_count": 34,
     "metadata": {},
     "output_type": "execute_result"
    }
   ],
   "source": [
    "fft_b3x_ds10.columns"
   ]
  },
  {
   "cell_type": "code",
   "execution_count": 35,
   "id": "f3cb4ba2",
   "metadata": {},
   "outputs": [],
   "source": [
    "fft_b3x_ds10[1025] = fft_b3x_ds10.index"
   ]
  },
  {
   "cell_type": "code",
   "execution_count": 36,
   "id": "ed29470f",
   "metadata": {},
   "outputs": [
    {
     "name": "stderr",
     "output_type": "stream",
     "text": [
      "C:\\Users\\nadav.rindler\\AppData\\Roaming\\Python\\Python38\\site-packages\\sklearn\\cluster\\_kmeans.py:870: FutureWarning: The default value of `n_init` will change from 10 to 'auto' in 1.4. Set the value of `n_init` explicitly to suppress the warning\n",
      "  warnings.warn(\n"
     ]
    }
   ],
   "source": [
    "km_b3x = KMeans(n_clusters=3, random_state=0).fit(fft_b3x_ds10)\n",
    "km_b3x_labs = km_b3x.labels_"
   ]
  },
  {
   "cell_type": "code",
   "execution_count": 37,
   "id": "045ab352",
   "metadata": {},
   "outputs": [
    {
     "data": {
      "text/plain": [
       "(array([0, 1, 2]), array([665, 666, 665], dtype=int64))"
      ]
     },
     "execution_count": 37,
     "metadata": {},
     "output_type": "execute_result"
    }
   ],
   "source": [
    "# Counts of each cluster label\n",
    "np.unique(km_b3x_labs, return_counts=True)"
   ]
  },
  {
   "cell_type": "code",
   "execution_count": 38,
   "id": "a728a0b2",
   "metadata": {},
   "outputs": [
    {
     "data": {
      "image/png": "[encoded data removed]",
      "text/plain": [
       "<Figure size 432x288 with 1 Axes>"
      ]
     },
     "metadata": {
      "needs_background": "light"
     },
     "output_type": "display_data"
    }
   ],
   "source": [
    "# Plot k-means cluster label assignments over time\n",
    "plt.figure(figsize=(6,4))\n",
    "plt.scatter(y=km_b3x_labs, x=range(len(km_b3x_labs))) \n",
    "plt.axvline(x=1665, color=\"black\", dashes=(1,2))\n",
    "plt.axvline(x=1993, color=\"black\", dashes=(1,2))\n",
    "plt.yticks(range(3))\n",
    "plt.ylabel(\"Cluster Label\")\n",
    "plt.xlabel(\"Cycle (1-second snapshots)\")\n",
    "plt.title(\"Test 1 Bearing 3x: k-Means clusters\\nRaw Frequency Data\")\n",
    "plt.tight_layout()\n",
    "plt.show()"
   ]
  },
  {
   "cell_type": "code",
   "execution_count": 39,
   "id": "4ca6b4d3",
   "metadata": {},
   "outputs": [],
   "source": [
    "# Drop ts row-counter column\n",
    "fft_b3x_ds10.drop([1025], axis=1, inplace=True)"
   ]
  },
  {
   "cell_type": "markdown",
   "id": "52c6116b",
   "metadata": {},
   "source": [
    "Nice! Including a time series trend component results in the k-means clustering algorithm outputting sequential, non-overlapping cluster labels (the order of the labels 2, 0, and then 1 does not matter).  The **problem**, however, is that each of the three clusters have the **exact same number of observations**.  This negates the objective of using the transition from one cluster to the next to signify a transition in bearing state from healthy-->faulty, or faulty-->failed.  We need to *learn* the appropriate changepoint from the data itself.\n",
    "\n",
    "### Alternative 5: Train the clustering algorithm on time-domain features instead of frequency-domain features"
   ]
  },
  {
   "cell_type": "code",
   "execution_count": 40,
   "id": "3c18c06e",
   "metadata": {},
   "outputs": [
    {
     "data": {
      "text/plain": [
       "(1994, 21)"
      ]
     },
     "execution_count": 40,
     "metadata": {},
     "output_type": "execute_result"
    }
   ],
   "source": [
    "ts_b3x_ds10 = pd.read_csv(\"Data/IMS/TS/ts_b3x_ds10.csv\", header=None)\n",
    "ts_b3x_ds10 = ts_b3x_ds10.iloc[160:2154,] # Truncate first 160 obs. because of data error\n",
    "ts_b3x_ds10.shape"
   ]
  },
  {
   "cell_type": "code",
   "execution_count": 41,
   "id": "08be2d8e",
   "metadata": {},
   "outputs": [
    {
     "name": "stderr",
     "output_type": "stream",
     "text": [
      "C:\\Users\\nadav.rindler\\AppData\\Roaming\\Python\\Python38\\site-packages\\sklearn\\cluster\\_kmeans.py:870: FutureWarning: The default value of `n_init` will change from 10 to 'auto' in 1.4. Set the value of `n_init` explicitly to suppress the warning\n",
      "  warnings.warn(\n"
     ]
    }
   ],
   "source": [
    "km_b3x = KMeans(n_clusters=3, random_state=0).fit(ts_b3x_ds10)\n",
    "km_b3x_labs = km_b3x.labels_"
   ]
  },
  {
   "cell_type": "code",
   "execution_count": 42,
   "id": "274f2cce",
   "metadata": {},
   "outputs": [
    {
     "data": {
      "text/plain": [
       "(array([0, 1, 2]), array([1960,   18,   16], dtype=int64))"
      ]
     },
     "execution_count": 42,
     "metadata": {},
     "output_type": "execute_result"
    }
   ],
   "source": [
    "# Counts of each cluster label\n",
    "np.unique(km_b3x_labs, return_counts=True)"
   ]
  },
  {
   "cell_type": "code",
   "execution_count": 43,
   "id": "fdf9c6f3",
   "metadata": {},
   "outputs": [
    {
     "data": {
      "image/png": "[encoded data removed]",
      "text/plain": [
       "<Figure size 432x288 with 1 Axes>"
      ]
     },
     "metadata": {
      "needs_background": "light"
     },
     "output_type": "display_data"
    }
   ],
   "source": [
    "# Plot k-means cluster label assignments over time\n",
    "plt.figure(figsize=(6,4))\n",
    "plt.scatter(y=km_b3x_labs, x=range(len(km_b3x_labs))) \n",
    "plt.axvline(x=1665, color=\"black\", dashes=(1,2))\n",
    "plt.axvline(x=1993, color=\"black\", dashes=(1,2))\n",
    "plt.yticks(range(3))\n",
    "plt.ylabel(\"Cluster Label\")\n",
    "plt.xlabel(\"Cycle (1-second snapshots)\")\n",
    "plt.title(\"Test 1 Bearing 3x: k-Means clusters\\nTime Series Data\")\n",
    "plt.tight_layout()\n",
    "plt.show()"
   ]
  },
  {
   "cell_type": "markdown",
   "id": "a2df8dd0",
   "metadata": {},
   "source": [
    "### Alternative 6: Test additional bearings\n",
    "\n",
    "# Test 1 Bearing 4x\n",
    "\n",
    "### Manual labels\n",
    " - Stage 1 (healthy) - until EMA of kurtosis spikes, excluding the initial data issue. (Obs 160-1466) (Index 1306)\n",
    " - Stage 2 (faulty) - from when EMA of kurtosis spikes until it drops again (Obs 1467-1849). (Index 1689)\n",
    " - Stage 3 (failed) - the remainder of the series (Obs 1850-1996)."
   ]
  },
  {
   "cell_type": "code",
   "execution_count": 44,
   "id": "28e0d81b",
   "metadata": {},
   "outputs": [
    {
     "data": {
      "text/plain": [
       "(1996, 1025)"
      ]
     },
     "execution_count": 44,
     "metadata": {},
     "output_type": "execute_result"
    }
   ],
   "source": [
    "fft_b4x_ds10 = pd.read_csv(\"Data/IMS/FFT/fft_b4x_ds10.csv\", header=None)\n",
    "fft_b4x_ds10 = fft_b4x_ds10.iloc[160:,] # Truncate first 160 observations based on EDA\n",
    "fft_b4x_ds10.shape"
   ]
  },
  {
   "cell_type": "code",
   "execution_count": 45,
   "id": "8e80ff7a",
   "metadata": {},
   "outputs": [
    {
     "name": "stderr",
     "output_type": "stream",
     "text": [
      "C:\\Users\\nadav.rindler\\AppData\\Roaming\\Python\\Python38\\site-packages\\sklearn\\cluster\\_kmeans.py:870: FutureWarning: The default value of `n_init` will change from 10 to 'auto' in 1.4. Set the value of `n_init` explicitly to suppress the warning\n",
      "  warnings.warn(\n"
     ]
    }
   ],
   "source": [
    "t1_b4x_clstr = get_AElabels(fft_b4x_ds10, fft_b4x_ds10)"
   ]
  },
  {
   "cell_type": "code",
   "execution_count": 46,
   "id": "73ee3aec",
   "metadata": {},
   "outputs": [
    {
     "data": {
      "text/plain": [
       "(array([0, 1, 2]), array([624, 884, 488], dtype=int64))"
      ]
     },
     "execution_count": 46,
     "metadata": {},
     "output_type": "execute_result"
    }
   ],
   "source": [
    "# Counts of each cluster label\n",
    "np.unique(t1_b4x_clstr, return_counts=True)"
   ]
  },
  {
   "cell_type": "code",
   "execution_count": 47,
   "id": "eb8060db",
   "metadata": {},
   "outputs": [
    {
     "data": {
      "image/png": "[encoded data removed]",
      "text/plain": [
       "<Figure size 432x288 with 1 Axes>"
      ]
     },
     "metadata": {
      "needs_background": "light"
     },
     "output_type": "display_data"
    }
   ],
   "source": [
    "# Plot k-means cluster label assignments over time\n",
    "plt.figure(figsize=(6,4))\n",
    "plt.scatter(y=t1_b4x_clstr, x=range(len(t1_b4x_clstr))) \n",
    "plt.axvline(x=1306, color=\"black\", dashes=(1,2))\n",
    "plt.axvline(x=1689, color=\"black\", dashes=(1,2))\n",
    "plt.yticks(range(3))\n",
    "plt.ylabel(\"Cluster Label\")\n",
    "plt.xlabel(\"Cycle (1-second snapshots)\")\n",
    "plt.title(\"Test 1 Bearing 4x: k-Means clusters\\nEmbedded AE frequency data\")\n",
    "plt.tight_layout()\n",
    "plt.show()"
   ]
  },
  {
   "cell_type": "markdown",
   "id": "50238e29",
   "metadata": {},
   "source": [
    "### Note\n",
    "I tried all 5 additional alternatives for Test 1 Bearing 4x, but have not included the code here because I ran out of time to clean up and organize the code. The result was the same as for Test 1 Bearing 3x - I was not able to achieve sequential, non-overlapping cluster labels that would indicate successive changes of bearing state (healthy-->faulty and faulty-->failed). "
   ]
  }
 ],
 "metadata": {
  "kernelspec": {
   "display_name": "Python 3 (ipykernel)",
   "language": "python",
   "name": "python3"
  },
  "language_info": {
   "codemirror_mode": {
    "name": "ipython",
    "version": 3
   },
   "file_extension": ".py",
   "mimetype": "text/x-python",
   "name": "python",
   "nbconvert_exporter": "python",
   "pygments_lexer": "ipython3",
   "version": "3.8.5"
  }
 },
 "nbformat": 4,
 "nbformat_minor": 5
}
