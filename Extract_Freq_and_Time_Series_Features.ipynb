{
 "cells": [
  {
   "cell_type": "markdown",
   "id": "a4d0b25f",
   "metadata": {},
   "source": [
    "# Extract Frequency & Time Series Features"
   ]
  },
  {
   "cell_type": "code",
   "execution_count": 1,
   "id": "2a0850c9",
   "metadata": {},
   "outputs": [],
   "source": [
    "# Load packages\n",
    "import os\n",
    "import pandas as pd\n",
    "import numpy as np\n",
    "from scipy.fft import rfft, rfftfreq\n",
    "from scipy import signal\n",
    "from scipy.stats import kurtosis\n",
    "import scipy.stats as stats\n",
    "from scipy.signal import find_peaks\n",
    "from scipy.stats import entropy\n",
    "from tqdm import tqdm"
   ]
  },
  {
   "cell_type": "code",
   "execution_count": 2,
   "id": "430b4e5b",
   "metadata": {},
   "outputs": [],
   "source": [
    "# Import functions to read and sample data\n",
    "import Read_and_Sample_Data\n",
    "from Read_and_Sample_Data import read_dataset\n",
    "from Read_and_Sample_Data import down_sample\n",
    "\n",
    "metadata = pd.read_csv('metadata.csv')"
   ]
  },
  {
   "cell_type": "code",
   "execution_count": 3,
   "id": "eb6bbe1d",
   "metadata": {},
   "outputs": [],
   "source": [
    "# Import functions to extract frequency and time features from the data\n",
    "import Data_Transforms\n",
    "from Data_Transforms import FFT\n",
    "from Data_Transforms import time_features"
   ]
  },
  {
   "cell_type": "markdown",
   "id": "395a500b",
   "metadata": {},
   "source": [
    "## Test 1"
   ]
  },
  {
   "cell_type": "markdown",
   "id": "cd239bf5",
   "metadata": {},
   "source": [
    "### Read data"
   ]
  },
  {
   "cell_type": "code",
   "execution_count": 4,
   "id": "60c582d3",
   "metadata": {
    "scrolled": true
   },
   "outputs": [
    {
     "name": "stderr",
     "output_type": "stream",
     "text": [
      "100%|██████████████████████████████████████████████████████████████████████████████| 2156/2156 [01:26<00:00, 24.91it/s]\n"
     ]
    }
   ],
   "source": [
    "test_1 = read_dataset(data_dir= metadata['dir'][0], \n",
    "                      first_ts= pd.to_datetime(metadata['start_ts'][0]),\n",
    "                      colnames= eval(metadata['colnames'][0]),\n",
    "                      rate=20480)"
   ]
  },
  {
   "cell_type": "code",
   "execution_count": 5,
   "id": "a533349d",
   "metadata": {},
   "outputs": [
    {
     "data": {
      "text/html": [
       "<div>\n",
       "<style scoped>\n",
       "    .dataframe tbody tr th:only-of-type {\n",
       "        vertical-align: middle;\n",
       "    }\n",
       "\n",
       "    .dataframe tbody tr th {\n",
       "        vertical-align: top;\n",
       "    }\n",
       "\n",
       "    .dataframe thead th {\n",
       "        text-align: right;\n",
       "    }\n",
       "</style>\n",
       "<table border=\"1\" class=\"dataframe\">\n",
       "  <thead>\n",
       "    <tr style=\"text-align: right;\">\n",
       "      <th></th>\n",
       "      <th>b1x</th>\n",
       "      <th>b1y</th>\n",
       "      <th>b2x</th>\n",
       "      <th>b2y</th>\n",
       "      <th>b3x</th>\n",
       "      <th>b3y</th>\n",
       "      <th>b4x</th>\n",
       "      <th>b4y</th>\n",
       "      <th>time</th>\n",
       "      <th>measurement_id</th>\n",
       "      <th>counter</th>\n",
       "    </tr>\n",
       "  </thead>\n",
       "  <tbody>\n",
       "    <tr>\n",
       "      <th>0</th>\n",
       "      <td>-0.022</td>\n",
       "      <td>-0.039</td>\n",
       "      <td>-0.183</td>\n",
       "      <td>-0.054</td>\n",
       "      <td>-0.105</td>\n",
       "      <td>-0.134</td>\n",
       "      <td>-0.129</td>\n",
       "      <td>-0.142</td>\n",
       "      <td>0.000000</td>\n",
       "      <td>0</td>\n",
       "      <td>0</td>\n",
       "    </tr>\n",
       "    <tr>\n",
       "      <th>1</th>\n",
       "      <td>-0.105</td>\n",
       "      <td>-0.017</td>\n",
       "      <td>-0.164</td>\n",
       "      <td>-0.183</td>\n",
       "      <td>-0.049</td>\n",
       "      <td>0.029</td>\n",
       "      <td>-0.115</td>\n",
       "      <td>-0.122</td>\n",
       "      <td>0.000049</td>\n",
       "      <td>0</td>\n",
       "      <td>1</td>\n",
       "    </tr>\n",
       "    <tr>\n",
       "      <th>2</th>\n",
       "      <td>-0.183</td>\n",
       "      <td>-0.098</td>\n",
       "      <td>-0.195</td>\n",
       "      <td>-0.125</td>\n",
       "      <td>-0.005</td>\n",
       "      <td>-0.007</td>\n",
       "      <td>-0.171</td>\n",
       "      <td>-0.071</td>\n",
       "      <td>0.000098</td>\n",
       "      <td>0</td>\n",
       "      <td>2</td>\n",
       "    </tr>\n",
       "    <tr>\n",
       "      <th>3</th>\n",
       "      <td>-0.178</td>\n",
       "      <td>-0.161</td>\n",
       "      <td>-0.159</td>\n",
       "      <td>-0.178</td>\n",
       "      <td>-0.100</td>\n",
       "      <td>-0.115</td>\n",
       "      <td>-0.112</td>\n",
       "      <td>-0.078</td>\n",
       "      <td>0.000146</td>\n",
       "      <td>0</td>\n",
       "      <td>3</td>\n",
       "    </tr>\n",
       "    <tr>\n",
       "      <th>4</th>\n",
       "      <td>-0.208</td>\n",
       "      <td>-0.129</td>\n",
       "      <td>-0.261</td>\n",
       "      <td>-0.098</td>\n",
       "      <td>-0.151</td>\n",
       "      <td>-0.205</td>\n",
       "      <td>-0.063</td>\n",
       "      <td>-0.066</td>\n",
       "      <td>0.000195</td>\n",
       "      <td>0</td>\n",
       "      <td>4</td>\n",
       "    </tr>\n",
       "  </tbody>\n",
       "</table>\n",
       "</div>"
      ],
      "text/plain": [
       "     b1x    b1y    b2x    b2y    b3x    b3y    b4x    b4y      time  \\\n",
       "0 -0.022 -0.039 -0.183 -0.054 -0.105 -0.134 -0.129 -0.142  0.000000   \n",
       "1 -0.105 -0.017 -0.164 -0.183 -0.049  0.029 -0.115 -0.122  0.000049   \n",
       "2 -0.183 -0.098 -0.195 -0.125 -0.005 -0.007 -0.171 -0.071  0.000098   \n",
       "3 -0.178 -0.161 -0.159 -0.178 -0.100 -0.115 -0.112 -0.078  0.000146   \n",
       "4 -0.208 -0.129 -0.261 -0.098 -0.151 -0.205 -0.063 -0.066  0.000195   \n",
       "\n",
       "   measurement_id  counter  \n",
       "0               0        0  \n",
       "1               0        1  \n",
       "2               0        2  \n",
       "3               0        3  \n",
       "4               0        4  "
      ]
     },
     "execution_count": 5,
     "metadata": {},
     "output_type": "execute_result"
    }
   ],
   "source": [
    "test_1.head()"
   ]
  },
  {
   "cell_type": "markdown",
   "id": "434bee76",
   "metadata": {},
   "source": [
    "### Extract Frequency attributes via Fast Fourier Transform"
   ]
  },
  {
   "cell_type": "code",
   "execution_count": null,
   "id": "2a76649a",
   "metadata": {},
   "outputs": [],
   "source": [
    "q = 10\n",
    "rate = 20480\n",
    "\n",
    "for col in eval(metadata['colnames'][0])[0:8]:\n",
    "    arr = FFT(down_sample(test_1, col, q), rate, q) # Set sampling rate\n",
    "    pd.DataFrame(arr).to_csv('Data/IMS/FFT/fft_' + col + '_ds' + str(q) + '.csv', header=False, index=False)"
   ]
  },
  {
   "cell_type": "markdown",
   "id": "34ca0218",
   "metadata": {},
   "source": [
    "### Extract Time Series attributes"
   ]
  },
  {
   "cell_type": "code",
   "execution_count": null,
   "id": "9bcaf6ee",
   "metadata": {},
   "outputs": [],
   "source": [
    "q = 10\n",
    "rate = 20480\n",
    "\n",
    "for col in eval(metadata['colnames'][0])[0:8]:\n",
    "    df = time_features(down_sample(test_1, col, q), rate, q)\n",
    "    df.to_csv('Data/IMS/TS/ts_' + col + '_ds' + str(q) + '.csv', header=True, index=False)"
   ]
  },
  {
   "cell_type": "markdown",
   "id": "549c9b51",
   "metadata": {},
   "source": [
    "## Test 2"
   ]
  },
  {
   "cell_type": "code",
   "execution_count": null,
   "id": "f4a5339f",
   "metadata": {},
   "outputs": [],
   "source": [
    "del (test_1)\n",
    "import gc\n",
    "gc.collect()\n",
    "test_1=pd.DataFrame()"
   ]
  },
  {
   "cell_type": "code",
   "execution_count": null,
   "id": "9a964d22",
   "metadata": {},
   "outputs": [],
   "source": [
    "test_2 = read_dataset(data_dir= metadata['dir'][1], \n",
    "                      first_ts= pd.to_datetime(metadata['start_ts'][1]),\n",
    "                      colnames= eval(metadata['colnames'][1]),\n",
    "                      rate=20480)"
   ]
  },
  {
   "cell_type": "markdown",
   "id": "b4e549f0",
   "metadata": {},
   "source": [
    "### Extract Frequency attributes via Fast Fourier Transform"
   ]
  },
  {
   "cell_type": "code",
   "execution_count": null,
   "id": "332ed628",
   "metadata": {},
   "outputs": [],
   "source": [
    "q = 10\n",
    "rate = 20480\n",
    "\n",
    "for col in eval(metadata['colnames'][1])[0:4]:\n",
    "    arr = FFT(down_sample(test_2, col, q), rate, q) # Set sampling rate\n",
    "    pd.DataFrame(arr).to_csv('Data/IMS/FFT/fft_T2_' + col + '_ds' + str(q) + '.csv', header=False, index=False)"
   ]
  },
  {
   "cell_type": "markdown",
   "id": "dba78679",
   "metadata": {},
   "source": [
    "### Extract Time Series attributes"
   ]
  },
  {
   "cell_type": "code",
   "execution_count": null,
   "id": "da43a62d",
   "metadata": {},
   "outputs": [],
   "source": [
    "q = 10\n",
    "rate = 20480\n",
    "\n",
    "for col in eval(metadata['colnames'][1])[0:4]:\n",
    "    df = time_features(down_sample(test_2, col, q), rate, q)\n",
    "    df.to_csv('Data/IMS/TS/ts_T2_' + col + '_ds' + str(q) + '.csv', header=True, index=False)"
   ]
  },
  {
   "cell_type": "markdown",
   "id": "2f836dcb",
   "metadata": {},
   "source": [
    "## Test 3"
   ]
  },
  {
   "cell_type": "code",
   "execution_count": null,
   "id": "913d4ad3",
   "metadata": {},
   "outputs": [],
   "source": [
    "del (test_2)\n",
    "import gc\n",
    "gc.collect()\n",
    "test_2=pd.DataFrame()"
   ]
  },
  {
   "cell_type": "code",
   "execution_count": null,
   "id": "e31e12c4",
   "metadata": {},
   "outputs": [],
   "source": [
    "test_3 = read_dataset(data_dir= metadata['dir'][2], \n",
    "                      first_ts= pd.to_datetime(metadata['start_ts'][2]),\n",
    "                      colnames= eval(metadata['colnames'][2]),\n",
    "                      rate=20480)"
   ]
  },
  {
   "cell_type": "code",
   "execution_count": null,
   "id": "2b52b6df",
   "metadata": {},
   "outputs": [],
   "source": [
    "test_3.shape"
   ]
  },
  {
   "cell_type": "code",
   "execution_count": null,
   "id": "08b59d69",
   "metadata": {},
   "outputs": [],
   "source": [
    "test_3.head()"
   ]
  },
  {
   "cell_type": "markdown",
   "id": "2ee49158",
   "metadata": {},
   "source": [
    "### Extract Frequency attributes via Fast Fourier Transform"
   ]
  },
  {
   "cell_type": "code",
   "execution_count": null,
   "id": "5fb015cd",
   "metadata": {},
   "outputs": [],
   "source": [
    "q = 10\n",
    "rate = 20480\n",
    "\n",
    "for col in eval(metadata['colnames'][2])[0:4]:\n",
    "    arr = FFT(down_sample(test_3, col, q), rate, q) # Set sampling rate\n",
    "    pd.DataFrame(arr).to_csv('Data/IMS/FFT/fft_T3_' + col + '_ds' + str(q) + '.csv', header=False, index=False)"
   ]
  },
  {
   "cell_type": "markdown",
   "id": "159a97da",
   "metadata": {},
   "source": [
    "### Extract Time Series attributes"
   ]
  },
  {
   "cell_type": "code",
   "execution_count": null,
   "id": "8c5a655d",
   "metadata": {},
   "outputs": [],
   "source": [
    "q = 10\n",
    "rate = 20480\n",
    "\n",
    "for col in eval(metadata['colnames'][2])[0:4]:\n",
    "    df = time_features(down_sample(test_3, col, q), rate, q)\n",
    "    df.to_csv('Data/IMS/TS/ts_T3_' + col + '_ds' + str(q) + '.csv', header=True, index=False)"
   ]
  },
  {
   "cell_type": "code",
   "execution_count": null,
   "id": "0f2be89b",
   "metadata": {},
   "outputs": [],
   "source": [
    "del (test_3)\n",
    "import gc\n",
    "gc.collect()\n",
    "test_3=pd.DataFrame()"
   ]
  }
 ],
 "metadata": {
  "kernelspec": {
   "display_name": "Python 3 (ipykernel)",
   "language": "python",
   "name": "python3"
  },
  "language_info": {
   "codemirror_mode": {
    "name": "ipython",
    "version": 3
   },
   "file_extension": ".py",
   "mimetype": "text/x-python",
   "name": "python",
   "nbconvert_exporter": "python",
   "pygments_lexer": "ipython3",
   "version": "3.8.5"
  }
 },
 "nbformat": 4,
 "nbformat_minor": 5
}
