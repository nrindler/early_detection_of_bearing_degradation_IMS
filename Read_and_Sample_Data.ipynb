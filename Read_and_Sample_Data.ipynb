{
 "cells": [
  {
   "cell_type": "markdown",
   "id": "ff6ef7fd",
   "metadata": {},
   "source": [
    "# Functions to Read & Sample Data"
   ]
  },
  {
   "cell_type": "code",
   "execution_count": 1,
   "id": "7c65b401",
   "metadata": {},
   "outputs": [],
   "source": [
    "# Load packages\n",
    "import os\n",
    "import pandas as pd\n",
    "import numpy as np\n",
    "import patoolib\n",
    "import pathlib\n",
    "from tqdm import tqdm\n",
    "from scipy import signal"
   ]
  },
  {
   "cell_type": "markdown",
   "id": "25bcab9e",
   "metadata": {},
   "source": [
    "### Decompress data sets"
   ]
  },
  {
   "cell_type": "code",
   "execution_count": 2,
   "id": "631a3164",
   "metadata": {},
   "outputs": [],
   "source": [
    "# Set filepaths for 3 bearing test data sets\n",
    "dir_1t = os.getcwd() + '\\\\Data\\\\IMS\\\\1st_test'\n",
    "dir_2t = os.getcwd() + '\\\\Data\\\\IMS\\\\2nd_test'\n",
    "dir_3t = os.getcwd() + '\\\\Data\\\\IMS\\\\3rd_test'"
   ]
  },
  {
   "cell_type": "code",
   "execution_count": 3,
   "id": "a629794d",
   "metadata": {},
   "outputs": [],
   "source": [
    "# Check if files have already been un-rar and un-zipped, else do so:\n",
    "for dir in ['1st_test','2nd_test','3rd_test']:\n",
    "    if dir in os.listdir(os.getcwd() + '/Data/IMS'):\n",
    "        pass\n",
    "    elif (dir + '.rar') in os.listdir(os.getcwd() + '\\\\Data\\\\IMS'):\n",
    "        #    if file.endswith(\".rar\"):\n",
    "        #    #print(os.path.join(os.getcwd() + '\\\\Data\\\\IMS', file))\n",
    "        print(dir)"
   ]
  },
  {
   "cell_type": "code",
   "execution_count": 4,
   "id": "45eaad42",
   "metadata": {},
   "outputs": [],
   "source": [
    "# Decompress (Un-RAR) data\n",
    "for test in [dir_1t, dir_2t, dir_3t]:\n",
    "    # Skip if already done\n",
    "    if os.path.exists(test):\n",
    "        pass\n",
    "    # Extract RAR file\n",
    "    else:\n",
    "        patoolib.extract_archive(test + '.rar', outdir=test)"
   ]
  },
  {
   "cell_type": "markdown",
   "id": "f9f130b0",
   "metadata": {},
   "source": [
    "### Read data"
   ]
  },
  {
   "cell_type": "code",
   "execution_count": 5,
   "id": "ac7620e7",
   "metadata": {},
   "outputs": [],
   "source": [
    "# Define start times of each experiment (Test 1, Test 2, Test 3)\n",
    "dset = [1, 2, 3]\n",
    "start_ts = [pd.to_datetime(\"2003-10-22 12:06:24\"),\n",
    "            pd.to_datetime(\"2004-02-12 10:32:39\"),\n",
    "            pd.to_datetime(\"2004-03-04 09:27:46\")]\n",
    "dir = [dir_1t,\n",
    "       dir_2t,\n",
    "       dir_3t + '\\\\4th_test\\\\txt']\n",
    "colnames = [['b1x', 'b1y', 'b2x', 'b2y', 'b3x', 'b3y', 'b4x', 'b4y', 'time', 'measurement_id','counter'],\n",
    "            ['b1x', 'b2x', 'b3x', 'b4x', 'time', 'measurement_id','counter'],\n",
    "            ['b1x', 'b2x', 'b3x', 'b4x', 'time', 'measurement_id','counter']]"
   ]
  },
  {
   "cell_type": "code",
   "execution_count": 6,
   "id": "ca769efa",
   "metadata": {},
   "outputs": [
    {
     "data": {
      "text/html": [
       "<div>\n",
       "<style scoped>\n",
       "    .dataframe tbody tr th:only-of-type {\n",
       "        vertical-align: middle;\n",
       "    }\n",
       "\n",
       "    .dataframe tbody tr th {\n",
       "        vertical-align: top;\n",
       "    }\n",
       "\n",
       "    .dataframe thead th {\n",
       "        text-align: right;\n",
       "    }\n",
       "</style>\n",
       "<table border=\"1\" class=\"dataframe\">\n",
       "  <thead>\n",
       "    <tr style=\"text-align: right;\">\n",
       "      <th></th>\n",
       "      <th>dset</th>\n",
       "      <th>start_ts</th>\n",
       "      <th>dir</th>\n",
       "      <th>colnames</th>\n",
       "    </tr>\n",
       "  </thead>\n",
       "  <tbody>\n",
       "    <tr>\n",
       "      <th>0</th>\n",
       "      <td>1</td>\n",
       "      <td>2003-10-22 12:06:24</td>\n",
       "      <td>C:\\Users\\nadav.rindler\\OneDrive - American Red...</td>\n",
       "      <td>[b1x, b1y, b2x, b2y, b3x, b3y, b4x, b4y, time,...</td>\n",
       "    </tr>\n",
       "    <tr>\n",
       "      <th>1</th>\n",
       "      <td>2</td>\n",
       "      <td>2004-02-12 10:32:39</td>\n",
       "      <td>C:\\Users\\nadav.rindler\\OneDrive - American Red...</td>\n",
       "      <td>[b1x, b2x, b3x, b4x, time, measurement_id, cou...</td>\n",
       "    </tr>\n",
       "    <tr>\n",
       "      <th>2</th>\n",
       "      <td>3</td>\n",
       "      <td>2004-03-04 09:27:46</td>\n",
       "      <td>C:\\Users\\nadav.rindler\\OneDrive - American Red...</td>\n",
       "      <td>[b1x, b2x, b3x, b4x, time, measurement_id, cou...</td>\n",
       "    </tr>\n",
       "  </tbody>\n",
       "</table>\n",
       "</div>"
      ],
      "text/plain": [
       "   dset            start_ts  \\\n",
       "0     1 2003-10-22 12:06:24   \n",
       "1     2 2004-02-12 10:32:39   \n",
       "2     3 2004-03-04 09:27:46   \n",
       "\n",
       "                                                 dir  \\\n",
       "0  C:\\Users\\nadav.rindler\\OneDrive - American Red...   \n",
       "1  C:\\Users\\nadav.rindler\\OneDrive - American Red...   \n",
       "2  C:\\Users\\nadav.rindler\\OneDrive - American Red...   \n",
       "\n",
       "                                            colnames  \n",
       "0  [b1x, b1y, b2x, b2y, b3x, b3y, b4x, b4y, time,...  \n",
       "1  [b1x, b2x, b3x, b4x, time, measurement_id, cou...  \n",
       "2  [b1x, b2x, b3x, b4x, time, measurement_id, cou...  "
      ]
     },
     "execution_count": 6,
     "metadata": {},
     "output_type": "execute_result"
    }
   ],
   "source": [
    "metadata = pd.DataFrame({'dset': dset, 'start_ts': start_ts, 'dir': dir, 'colnames': colnames} )\n",
    "metadata"
   ]
  },
  {
   "cell_type": "code",
   "execution_count": 7,
   "id": "84fcefea",
   "metadata": {},
   "outputs": [],
   "source": [
    "metadata.to_csv('metadata.csv', header=True, index=False)"
   ]
  },
  {
   "cell_type": "code",
   "execution_count": 8,
   "id": "cc7ee2d6",
   "metadata": {},
   "outputs": [],
   "source": [
    "# Read data\n",
    "    # Source: https://www.kaggle.com/code/andersgb/nasa-bearing-dataset-outlier-detection\n",
    "\n",
    "def read_dataset(data_dir, first_ts, colnames, rate=20480):\n",
    "    all_dfs = []\n",
    "    for file_counter, f in enumerate(tqdm(sorted(pathlib.Path(data_dir).iterdir()))):\n",
    "        df = pd.read_csv(f, sep=\"\\t\", header=None, dtype=np.float32)#.rename(columns=colnames)\n",
    "        ts = pd.to_datetime(f.name, format=\"%Y.%m.%d.%H.%M.%S\")\n",
    "        measurement_delta = (ts - first_ts).total_seconds()\n",
    "        step_s = 1 / rate  # 20 kHz sampling -- but these are 1 second snapshots! So appears to be 20,480 Hz\n",
    "        df[\"time\"] = measurement_delta + np.arange(len(df)) * step_s\n",
    "        df[\"measurement_id\"] = file_counter\n",
    "        df[\"measurement_id\"] = df[\"measurement_id\"].astype(np.uint32)\n",
    "        if len(df) != rate:\n",
    "            raise RuntimeError(f\"Unexpected file length {len(df)} in {f}\")\n",
    "        all_dfs.append(df)\n",
    "    df_out = pd.concat(all_dfs, ignore_index=True)\n",
    "    df_out[\"counter\"] = df_out.groupby('measurement_id').cumcount()\n",
    "    df_out.columns = colnames\n",
    "    return df_out"
   ]
  },
  {
   "cell_type": "code",
   "execution_count": 9,
   "id": "444ea2b6",
   "metadata": {},
   "outputs": [
    {
     "name": "stderr",
     "output_type": "stream",
     "text": [
      "100%|██████████████████████████████████████████████████████████████████████████████| 2156/2156 [01:26<00:00, 25.07it/s]\n"
     ]
    }
   ],
   "source": [
    "test_1 = read_dataset(data_dir=dir[0], first_ts=start_ts[0], colnames=colnames[0], rate=20480)"
   ]
  },
  {
   "cell_type": "code",
   "execution_count": 10,
   "id": "124d8aa6",
   "metadata": {},
   "outputs": [
    {
     "data": {
      "text/plain": [
       "(44154880, 11)"
      ]
     },
     "execution_count": 10,
     "metadata": {},
     "output_type": "execute_result"
    }
   ],
   "source": [
    "test_1.shape"
   ]
  },
  {
   "cell_type": "code",
   "execution_count": 11,
   "id": "d3774de7",
   "metadata": {},
   "outputs": [
    {
     "data": {
      "text/plain": [
       "2156.0"
      ]
     },
     "execution_count": 11,
     "metadata": {},
     "output_type": "execute_result"
    }
   ],
   "source": [
    "test_1.shape[0]/20480 # number of observations @ 20,480 Hz"
   ]
  },
  {
   "cell_type": "markdown",
   "id": "0b869d9e",
   "metadata": {},
   "source": [
    "### Down-sample data with filter"
   ]
  },
  {
   "cell_type": "code",
   "execution_count": 12,
   "id": "91c72528",
   "metadata": {},
   "outputs": [],
   "source": [
    "# Downsample the signal after applying an anti-aliasing filter.\n",
    "    # Source: https://docs.scipy.org/doc/scipy/reference/generated/scipy.signal.decimate.html\n",
    "        # by default, order 8 Chebyshev type I filter is used if ftype is 'iir'. HOWEVER this results in all 'nan' values\n",
    "        # 30 point FIR filter with Hamming window is used if ftype is ‘fir’.\n",
    "    # Source: https://en.wikipedia.org/wiki/Anti-aliasing_filter\n",
    "\n",
    "def down_sample(df, col, q):  \n",
    "    arr = signal.decimate(np.array(df[col]), q, ftype='fir') \n",
    "    return arr"
   ]
  },
  {
   "cell_type": "code",
   "execution_count": 13,
   "id": "e7a0d6c4",
   "metadata": {},
   "outputs": [],
   "source": [
    "test_1_ds = down_sample(test_1,'b1x',10)"
   ]
  },
  {
   "cell_type": "code",
   "execution_count": 14,
   "id": "c749dfa8",
   "metadata": {},
   "outputs": [
    {
     "data": {
      "text/plain": [
       "(4415488,)"
      ]
     },
     "execution_count": 14,
     "metadata": {},
     "output_type": "execute_result"
    }
   ],
   "source": [
    "test_1_ds.shape"
   ]
  },
  {
   "cell_type": "code",
   "execution_count": 15,
   "id": "951bba84",
   "metadata": {},
   "outputs": [
    {
     "data": {
      "text/plain": [
       "array([-0.09390984, -0.10298537, -0.12269048, -0.05235113, -0.09705996,\n",
       "       -0.09167194, -0.12314022, -0.08880151, -0.12440187, -0.11103717],\n",
       "      dtype=float32)"
      ]
     },
     "execution_count": 15,
     "metadata": {},
     "output_type": "execute_result"
    }
   ],
   "source": [
    "test_1_ds[0:10]"
   ]
  }
 ],
 "metadata": {
  "kernelspec": {
   "display_name": "Python 3 (ipykernel)",
   "language": "python",
   "name": "python3"
  },
  "language_info": {
   "codemirror_mode": {
    "name": "ipython",
    "version": 3
   },
   "file_extension": ".py",
   "mimetype": "text/x-python",
   "name": "python",
   "nbconvert_exporter": "python",
   "pygments_lexer": "ipython3",
   "version": "3.8.5"
  }
 },
 "nbformat": 4,
 "nbformat_minor": 5
}
